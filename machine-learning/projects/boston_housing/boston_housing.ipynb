{
 "cells": [
  {
   "cell_type": "markdown",
   "metadata": {},
   "source": [
    "# Machine Learning Engineer Nanodegree\n",
    "## Model Evaluation & Validation\n",
    "## Project 1: Predicting Boston Housing Prices\n",
    "\n",
    "Welcome to the first project of the Machine Learning Engineer Nanodegree! In this notebook, some template code has already been written. You will need to implement additional functionality to successfully answer all of the questions for this project. Unless it is requested, do not modify any of the code that has already been included. In this template code, there are four sections which you must complete to successfully produce a prediction with your model. Each section where you will write code is preceded by a **STEP X** header with comments describing what must be done. Please read the instructions carefully!\n",
    "\n",
    "In addition to implementing code, there will be questions that you must answer that relate to the project and your implementation. Each section where you will answer a question is preceded by a **QUESTION X** header. Be sure that you have carefully read each question and provide thorough answers in the text boxes that begin with \"**Answer:**\". Your project submission will be evaluated based on your answers to each of the questions.  \n",
    "\n",
    "A description of the dataset can be found [here](https://archive.ics.uci.edu/ml/datasets/Housing), which is provided by the **UCI Machine Learning Repository**."
   ]
  },
  {
   "cell_type": "markdown",
   "metadata": {},
   "source": [
    "# Getting Started\n",
    "To familiarize yourself with an iPython Notebook, **try double clicking on this cell**. You will notice that the text changes so that all the formatting is removed. This allows you to make edits to the block of text you see here. This block of text (and mostly anything that's not code) is written using [Markdown](http://daringfireball.net/projects/markdown/syntax), which is a way to format text using headers, links, italics, and many other options! Whether you're editing a Markdown text block or a code block (like the one below), you can use the keyboard shortcut **Shift + Enter** or **Shift + Return** to execute the code or text block. In this case, it will show the formatted text.\n",
    "\n",
    "Let's start by setting up some code we will need to get the rest of the project up and running. Use the keyboard shortcut mentioned above on the following code block to execute it. Alternatively, depending on your iPython Notebook program, you can press the **Play** button in the hotbar. You'll know the code block executes successfully if the message *\"Boston Housing dataset loaded successfully!\"* is printed."
   ]
  },
  {
   "cell_type": "code",
   "execution_count": 1,
   "metadata": {
    "collapsed": false
   },
   "outputs": [
    {
     "name": "stderr",
     "output_type": "stream",
     "text": [
      "/Users/daiwei/Library/Python/2.7/lib/python/site-packages/matplotlib/font_manager.py:273: UserWarning: Matplotlib is building the font cache using fc-list. This may take a moment.\n",
      "  warnings.warn('Matplotlib is building the font cache using fc-list. This may take a moment.')\n"
     ]
    },
    {
     "name": "stdout",
     "output_type": "stream",
     "text": [
      "Boston Housing dataset loaded successfully!\n"
     ]
    }
   ],
   "source": [
    "# Importing a few necessary libraries\n",
    "import numpy as np\n",
    "import matplotlib.pyplot as pl\n",
    "from sklearn import datasets\n",
    "from sklearn.tree import DecisionTreeRegressor\n",
    "\n",
    "# Make matplotlib show our plots inline (nicely formatted in the notebook)\n",
    "%matplotlib inline\n",
    "\n",
    "# Create our client's feature set for which we will be predicting a selling price\n",
    "CLIENT_FEATURES = [[11.95, 0.00, 18.100, 0, 0.6590, 5.6090, 90.00, 1.385, 24, 680.0, 20.20, 332.09, 12.13]]\n",
    "\n",
    "# Load the Boston Housing dataset into the city_data variable\n",
    "city_data = datasets.load_boston()\n",
    "\n",
    "# Initialize the housing prices and housing features\n",
    "housing_prices = city_data.target\n",
    "housing_features = city_data.data\n",
    "\n",
    "print \"Boston Housing dataset loaded successfully!\""
   ]
  },
  {
   "cell_type": "markdown",
   "metadata": {},
   "source": [
    "# Statistical Analysis and Data Exploration\n",
    "In this first section of the project, you will quickly investigate a few basic statistics about the dataset you are working with. In addition, you'll look at the client's feature set in `CLIENT_FEATURES` and see how this particular sample relates to the features of the dataset. Familiarizing yourself with the data through an explorative process is a fundamental practice to help you better understand your results."
   ]
  },
  {
   "cell_type": "markdown",
   "metadata": {},
   "source": [
    "## Step 1\n",
    "In the code block below, use the imported `numpy` library to calculate the requested statistics. You will need to replace each `None` you find with the appropriate `numpy` coding for the proper statistic to be printed. Be sure to execute the code block each time to test if your implementation is working successfully. The print statements will show the statistics you calculate!"
   ]
  },
  {
   "cell_type": "code",
   "execution_count": 13,
   "metadata": {
    "collapsed": false
   },
   "outputs": [
    {
     "name": "stdout",
     "output_type": "stream",
     "text": [
      "Boston Housing dataset statistics (in $1000's):\n",
      "\n",
      "Total number of houses: 506\n",
      "Total number of features: 13\n",
      "Minimum house price: 5.0\n",
      "Maximum house price: 50.0\n",
      "Mean house price: 22.533\n",
      "Median house price: 21.2\n",
      "Standard deviation of house price: 9.188\n"
     ]
    }
   ],
   "source": [
    "# Number of houses in the dataset\n",
    "total_houses = housing_prices.shape[0]\n",
    "\n",
    "# Number of features in the dataset\n",
    "total_features = housing_features.shape[1]\n",
    "\n",
    "# Minimum housing value in the dataset\n",
    "minimum_price = np.min(housing_prices)\n",
    "\n",
    "# Maximum housing value in the dataset\n",
    "maximum_price = np.max(housing_prices)\n",
    "\n",
    "# Mean house value of the dataset\n",
    "mean_price = np.mean(housing_prices)\n",
    "\n",
    "# Median house value of the dataset\n",
    "median_price = np.median(housing_prices)\n",
    "\n",
    "# Standard deviation of housing values of the dataset\n",
    "std_dev = np.std(housing_prices)\n",
    "\n",
    "# Show the calculated statistics\n",
    "print \"Boston Housing dataset statistics (in $1000's):\\n\"\n",
    "print \"Total number of houses:\", total_houses\n",
    "print \"Total number of features:\", total_features\n",
    "print \"Minimum house price:\", minimum_price\n",
    "print \"Maximum house price:\", maximum_price\n",
    "print \"Mean house price: {0:.3f}\".format(mean_price)\n",
    "print \"Median house price:\", median_price\n",
    "print \"Standard deviation of house price: {0:.3f}\".format(std_dev)"
   ]
  },
  {
   "cell_type": "markdown",
   "metadata": {},
   "source": [
    "## Question 1\n",
    "As a reminder, you can view a description of the Boston Housing dataset [here](https://archive.ics.uci.edu/ml/datasets/Housing), where you can find the different features under **Attribute Information**. The `MEDV` attribute relates to the values stored in our `housing_prices` variable, so we do not consider that a feature of the data.\n",
    "\n",
    "*Of the features available for each data point, choose three that you feel are significant and give a brief description for each of what they measure.*\n",
    "\n",
    "Remember, you can **double click the text box below** to add your answer!"
   ]
  },
  {
   "cell_type": "markdown",
   "metadata": {},
   "source": [
    "**Answer: I choose the DIS, B and LSTAT. The DIS meatures the employment potential of this area. The B meatures the safety to some extent and the LSTAT meatures the average purchasing power and the level of prosperity of the town**"
   ]
  },
  {
   "cell_type": "markdown",
   "metadata": {},
   "source": [
    "## Question 2\n",
    "*Using your client's feature set `CLIENT_FEATURES`, which values correspond with the features you've chosen above?*  \n",
    "**Hint: ** Run the code block below to see the client's data."
   ]
  },
  {
   "cell_type": "code",
   "execution_count": 14,
   "metadata": {
    "collapsed": false
   },
   "outputs": [
    {
     "name": "stdout",
     "output_type": "stream",
     "text": [
      "[[11.95, 0.0, 18.1, 0, 0.659, 5.609, 90.0, 1.385, 24, 680.0, 20.2, 332.09, 12.13]]\n"
     ]
    }
   ],
   "source": [
    "print CLIENT_FEATURES"
   ]
  },
  {
   "cell_type": "markdown",
   "metadata": {},
   "source": [
    "**Answer: 1.385, 332.09, 12.13**"
   ]
  },
  {
   "cell_type": "markdown",
   "metadata": {},
   "source": [
    "# Evaluating Model Performance\n",
    "In this second section of the project, you will begin to develop the tools necessary for a model to make a prediction. Being able to accurately evaluate each model's performance through the use of these tools helps to greatly reinforce the confidence in your predictions."
   ]
  },
  {
   "cell_type": "markdown",
   "metadata": {},
   "source": [
    "## Step 2\n",
    "In the code block below, you will need to implement code so that the `shuffle_split_data` function does the following:\n",
    "- Randomly shuffle the input data `X` and target labels (housing values) `y`.\n",
    "- Split the data into training and testing subsets, holding 30% of the data for testing.\n",
    "\n",
    "If you use any functions not already acessible from the imported libraries above, remember to include your import statement below as well!   \n",
    "Ensure that you have executed the code block once you are done. You'll know the `shuffle_split_data` function is working if the statement *\"Successfully shuffled and split the data!\"* is printed."
   ]
  },
  {
   "cell_type": "code",
   "execution_count": 61,
   "metadata": {
    "collapsed": false
   },
   "outputs": [
    {
     "name": "stdout",
     "output_type": "stream",
     "text": [
      "Successfully shuffled and split the data!\n"
     ]
    }
   ],
   "source": [
    "# Put any import statements you need for this code block here\n",
    "from sklearn import cross_validation\n",
    "\n",
    "def shuffle_split_data(X, y):\n",
    "    \"\"\" Shuffles and splits data into 70% training and 30% testing subsets,\n",
    "        then returns the training and testing subsets. \"\"\"\n",
    "\n",
    "    # Shuffle and split the data\n",
    "    X_train = None\n",
    "    y_train = None\n",
    "    X_test = None\n",
    "    y_test = None\n",
    "    \n",
    "    X_train, X_test, y_train, y_test = cross_validation.train_test_split(X, y, test_size = 0.3, random_state = 0)\n",
    "\n",
    "    # Return the training and testing data subsets\n",
    "    return X_train, y_train, X_test, y_test\n",
    "\n",
    "\n",
    "# Test shuffle_split_data\n",
    "try:\n",
    "    X_train, y_train, X_test, y_test = shuffle_split_data(housing_features, housing_prices)\n",
    "    print \"Successfully shuffled and split the data!\"\n",
    "except:\n",
    "    print \"Something went wrong with shuffling and splitting the data.\""
   ]
  },
  {
   "cell_type": "markdown",
   "metadata": {},
   "source": [
    "## Question 3\n",
    "*Why do we split the data into training and testing subsets for our model?*"
   ]
  },
  {
   "cell_type": "markdown",
   "metadata": {},
   "source": [
    "**Answer: As we need the testing subsets to avoid overfitting or high variance when predicting**"
   ]
  },
  {
   "cell_type": "markdown",
   "metadata": {},
   "source": [
    "## Step 3\n",
    "In the code block below, you will need to implement code so that the `performance_metric` function does the following:\n",
    "- Perform a total error calculation between the true values of the `y` labels `y_true` and the predicted values of the `y` labels `y_predict`.\n",
    "\n",
    "You will need to first choose an appropriate performance metric for this problem. See [the sklearn metrics documentation](http://scikit-learn.org/stable/modules/classes.html#sklearn-metrics-metrics) to view a list of available metric functions. **Hint: ** Look at the question below to see a list of the metrics that were covered in the supporting course for this project.\n",
    "\n",
    "Once you have determined which metric you will use, remember to include the necessary import statement as well!  \n",
    "Ensure that you have executed the code block once you are done. You'll know the `performance_metric` function is working if the statement *\"Successfully performed a metric calculation!\"* is printed."
   ]
  },
  {
   "cell_type": "code",
   "execution_count": 62,
   "metadata": {
    "collapsed": false
   },
   "outputs": [
    {
     "name": "stdout",
     "output_type": "stream",
     "text": [
      "Successfully performed a metric calculation!\n"
     ]
    }
   ],
   "source": [
    "# Put any import statements you need for this code block here\n",
    "from sklearn.metrics import mean_squared_error\n",
    "def performance_metric(y_true, y_predict):\n",
    "    \"\"\" Calculates and returns the total error between true and predicted values\n",
    "        based on a performance metric chosen by the student. \"\"\"\n",
    " \n",
    "    #error = [precision_score(y_true,y_predict), recall_score(y_true,y_predict), f1_score(y_true,y_predict)]\n",
    "    error = mean_squared_error(y_true,y_predict)\n",
    "    return error\n",
    "\n",
    "\n",
    "# Test performance_metric\n",
    "try:\n",
    "    total_error = performance_metric(y_train, y_train)\n",
    "    print \"Successfully performed a metric calculation!\"\n",
    "except:\n",
    "    print \"Something went wrong with performing a metric calculation.\""
   ]
  },
  {
   "cell_type": "markdown",
   "metadata": {},
   "source": [
    "## Question 4\n",
    "*Which performance metric below did you find was most appropriate for predicting housing prices and analyzing the total error. Why?*\n",
    "- *Accuracy*\n",
    "- *Precision*\n",
    "- *Recall*\n",
    "- *F1 Score*\n",
    "- *Mean Squared Error (MSE)*\n",
    "- *Mean Absolute Error (MAE)*"
   ]
  },
  {
   "cell_type": "markdown",
   "metadata": {},
   "source": [
    "**Answer: I think it's the MSE. Because the predict value is continuous, the accuracy, precision, recall and f1 score don't fit this matter. I think MSE is a little better than MAE as it's more 'soft'.**"
   ]
  },
  {
   "cell_type": "markdown",
   "metadata": {},
   "source": [
    "## Step 4 (Final Step)\n",
    "In the code block below, you will need to implement code so that the `fit_model` function does the following:\n",
    "- Create a scoring function using the same performance metric as in **Step 3**. See the [sklearn `make_scorer` documentation](http://scikit-learn.org/stable/modules/generated/sklearn.metrics.make_scorer.html).\n",
    "- Build a GridSearchCV object using `regressor`, `parameters`, and `scoring_function`. See the [sklearn documentation on GridSearchCV](http://scikit-learn.org/stable/modules/generated/sklearn.grid_search.GridSearchCV.html).\n",
    "\n",
    "When building the scoring function and GridSearchCV object, *be sure that you read the parameters documentation thoroughly.* It is not always the case that a default parameter for a function is the appropriate setting for the problem you are working on.\n",
    "\n",
    "Since you are using `sklearn` functions, remember to include the necessary import statements below as well!  \n",
    "Ensure that you have executed the code block once you are done. You'll know the `fit_model` function is working if the statement *\"Successfully fit a model to the data!\"* is printed."
   ]
  },
  {
   "cell_type": "code",
   "execution_count": 87,
   "metadata": {
    "collapsed": false
   },
   "outputs": [
    {
     "name": "stdout",
     "output_type": "stream",
     "text": [
      "{'max_depth': 4}\n",
      "-36.05466437\n",
      "Successfully fit a model!\n"
     ]
    }
   ],
   "source": [
    "# Put any import statements you need for this code block\n",
    "from sklearn.metrics import make_scorer, mean_squared_error\n",
    "from sklearn.grid_search import GridSearchCV\n",
    "\n",
    "def fit_model(X, y):\n",
    "    \"\"\" Tunes a decision tree regressor model using GridSearchCV on the input data X \n",
    "        and target labels y and returns this optimal model. \"\"\"\n",
    "\n",
    "    # Create a decision tree regressor object\n",
    "    regressor = DecisionTreeRegressor()\n",
    "\n",
    "    # Set up the parameters we wish to tune\n",
    "    parameters = {'max_depth':(1,2,3,4,5,6,7,8,9,10)}\n",
    "\n",
    "    # Make an appropriate scoring function\n",
    "    scoring_function = make_scorer(performance_metric, greater_is_better = False)\n",
    "\n",
    "    # Make the GridSearchCV object\n",
    "    reg = GridSearchCV(regressor, parameters, scoring = scoring_function)\n",
    "\n",
    "    # Fit the learner to the data to obtain the optimal model with tuned parameters\n",
    "    reg.fit(X, y)\n",
    "\n",
    "    # Return the optimal model\n",
    "    print reg.best_params_\n",
    "    print reg.best_score_\n",
    "  \n",
    "    return reg.best_estimator_\n",
    "\n",
    "\n",
    "# Test fit_model on entire dataset\n",
    "try:\n",
    "    reg = fit_model(housing_features, housing_prices)\n",
    "    print \"Successfully fit a model!\"\n",
    "except:\n",
    "    print \"Something went wrong with fitting a model.\""
   ]
  },
  {
   "cell_type": "markdown",
   "metadata": {},
   "source": [
    "## Question 5\n",
    "*What is the grid search algorithm and when is it applicable?*"
   ]
  },
  {
   "cell_type": "markdown",
   "metadata": {},
   "source": [
    "**Answer: 'Grid search algorithm do exhaustive search over specified parameter values for an estimator.', when we have chosen a specified model and want to tune the parameters of the model.**"
   ]
  },
  {
   "cell_type": "markdown",
   "metadata": {},
   "source": [
    "## Question 6\n",
    "*What is cross-validation, and how is it performed on a model? Why would cross-validation be helpful when using grid search?*"
   ]
  },
  {
   "cell_type": "markdown",
   "metadata": {},
   "source": [
    "**Answer: Cross-validation is a method which we cut the datasets into training and testing sets to validate the performance of our algorithm. It mainly reduces overfitting of the data. \n",
    "The cross-validation can avoid the grid search finds the best score which has high variance results.**"
   ]
  },
  {
   "cell_type": "markdown",
   "metadata": {},
   "source": [
    "# Checkpoint!\n",
    "You have now successfully completed your last code implementation section. Pat yourself on the back! All of your functions written above will be executed in the remaining sections below, and questions will be asked about various results for you to analyze. To prepare the **Analysis** and **Prediction** sections, you will need to intialize the two functions below. Remember, there's no need to implement any more code, so sit back and execute the code blocks! Some code comments are provided if you find yourself interested in the functionality."
   ]
  },
  {
   "cell_type": "code",
   "execution_count": 27,
   "metadata": {
    "collapsed": true
   },
   "outputs": [],
   "source": [
    "def learning_curves(X_train, y_train, X_test, y_test):\n",
    "    \"\"\" Calculates the performance of several models with varying sizes of training data.\n",
    "        The learning and testing error rates for each model are then plotted. \"\"\"\n",
    "    \n",
    "    print \"Creating learning curve graphs for max_depths of 1, 3, 6, and 10. . .\"\n",
    "    \n",
    "    # Create the figure window\n",
    "    fig = pl.figure(figsize=(10,8))\n",
    "\n",
    "    # We will vary the training set size so that we have 50 different sizes\n",
    "    sizes = np.rint(np.linspace(1, len(X_train), 50)).astype(int)\n",
    "    train_err = np.zeros(len(sizes))\n",
    "    test_err = np.zeros(len(sizes))\n",
    "\n",
    "    # Create four different models based on max_depth\n",
    "    for k, depth in enumerate([1,3,6,10]):\n",
    "        \n",
    "        for i, s in enumerate(sizes):\n",
    "            \n",
    "            # Setup a decision tree regressor so that it learns a tree with max_depth = depth\n",
    "            regressor = DecisionTreeRegressor(max_depth = depth)\n",
    "            \n",
    "            # Fit the learner to the training data\n",
    "            regressor.fit(X_train[:s], y_train[:s])\n",
    "\n",
    "            # Find the performance on the training set\n",
    "            train_err[i] = performance_metric(y_train[:s], regressor.predict(X_train[:s]))\n",
    "            \n",
    "            # Find the performance on the testing set\n",
    "            test_err[i] = performance_metric(y_test, regressor.predict(X_test))\n",
    "\n",
    "        # Subplot the learning curve graph\n",
    "        ax = fig.add_subplot(2, 2, k+1)\n",
    "        ax.plot(sizes, test_err, lw = 2, label = 'Testing Error')\n",
    "        ax.plot(sizes, train_err, lw = 2, label = 'Training Error')\n",
    "        ax.legend()\n",
    "        ax.set_title('max_depth = %s'%(depth))\n",
    "        ax.set_xlabel('Number of Data Points in Training Set')\n",
    "        ax.set_ylabel('Total Error')\n",
    "        ax.set_xlim([0, len(X_train)])\n",
    "    \n",
    "    # Visual aesthetics\n",
    "    fig.suptitle('Decision Tree Regressor Learning Performances', fontsize=18, y=1.03)\n",
    "    fig.tight_layout()\n",
    "    fig.show()"
   ]
  },
  {
   "cell_type": "code",
   "execution_count": 28,
   "metadata": {
    "collapsed": true
   },
   "outputs": [],
   "source": [
    "def model_complexity(X_train, y_train, X_test, y_test):\n",
    "    \"\"\" Calculates the performance of the model as model complexity increases.\n",
    "        The learning and testing errors rates are then plotted. \"\"\"\n",
    "    \n",
    "    print \"Creating a model complexity graph. . . \"\n",
    "\n",
    "    # We will vary the max_depth of a decision tree model from 1 to 14\n",
    "    max_depth = np.arange(1, 14)\n",
    "    train_err = np.zeros(len(max_depth))\n",
    "    test_err = np.zeros(len(max_depth))\n",
    "\n",
    "    for i, d in enumerate(max_depth):\n",
    "        # Setup a Decision Tree Regressor so that it learns a tree with depth d\n",
    "        regressor = DecisionTreeRegressor(max_depth = d)\n",
    "\n",
    "        # Fit the learner to the training data\n",
    "        regressor.fit(X_train, y_train)\n",
    "\n",
    "        # Find the performance on the training set\n",
    "        train_err[i] = performance_metric(y_train, regressor.predict(X_train))\n",
    "\n",
    "        # Find the performance on the testing set\n",
    "        test_err[i] = performance_metric(y_test, regressor.predict(X_test))\n",
    "\n",
    "    # Plot the model complexity graph\n",
    "    pl.figure(figsize=(7, 5))\n",
    "    pl.title('Decision Tree Regressor Complexity Performance')\n",
    "    pl.plot(max_depth, test_err, lw=2, label = 'Testing Error')\n",
    "    pl.plot(max_depth, train_err, lw=2, label = 'Training Error')\n",
    "    pl.legend()\n",
    "    pl.xlabel('Maximum Depth')\n",
    "    pl.ylabel('Total Error')\n",
    "    pl.show()"
   ]
  },
  {
   "cell_type": "markdown",
   "metadata": {},
   "source": [
    "# Analyzing Model Performance\n",
    "In this third section of the project, you'll take a look at several models' learning and testing error rates on various subsets of training data. Additionally, you'll investigate one particular algorithm with an increasing `max_depth` parameter on the full training set to observe how model complexity affects learning and testing errors. Graphing your model's performance based on varying criteria can be beneficial in the analysis process, such as visualizing behavior that may not have been apparent from the results alone."
   ]
  },
  {
   "cell_type": "code",
   "execution_count": 29,
   "metadata": {
    "collapsed": false
   },
   "outputs": [
    {
     "name": "stdout",
     "output_type": "stream",
     "text": [
      "Creating learning curve graphs for max_depths of 1, 3, 6, and 10. . .\n",
      "0.0\n",
      "141.596907895\n",
      "2.82483333333\n",
      "96.2802122807\n",
      "14.9968888889\n",
      "58.9663961988\n",
      "17.344187291\n",
      "58.9723506229\n",
      "18.6570505952\n",
      "56.0895596186\n",
      "29.4001402027\n",
      "48.3164332314\n",
      "30.3992897727\n",
      "48.7924722451\n",
      "29.6228197035\n",
      "48.1840818294\n",
      "28.3863755136\n",
      "47.9928423503\n",
      "30.0583856749\n",
      "47.9673974119\n",
      "28.1261035631\n",
      "48.1560535474\n",
      "27.1294601716\n",
      "48.2227185884\n",
      "26.1006964033\n",
      "48.1462586472\n",
      "29.3233471852\n",
      "48.2892324667\n",
      "29.2677139745\n",
      "47.7635647982\n",
      "29.1728491393\n",
      "48.1071066\n",
      "29.0785387931\n",
      "48.0242442434\n",
      "29.6228515668\n",
      "48.0271056759\n",
      "28.7848174472\n",
      "48.0650448792\n",
      "30.4410371771\n",
      "52.3063249229\n",
      "31.6549073573\n",
      "52.3731012323\n",
      "32.4818150021\n",
      "52.3614645453\n",
      "34.0633519154\n",
      "52.7195436996\n",
      "33.9285905066\n",
      "52.4989361937\n",
      "33.0948731641\n",
      "52.4299568146\n",
      "33.2707189516\n",
      "52.46329767\n",
      "33.3459370312\n",
      "52.4151439739\n",
      "36.1316929902\n",
      "52.2804233564\n",
      "37.0300619306\n",
      "52.2649306715\n",
      "38.0517128425\n",
      "52.3559563742\n",
      "37.9646660552\n",
      "62.545840603\n",
      "37.4263543178\n",
      "62.5394248111\n",
      "41.0552597464\n",
      "50.8743064869\n",
      "41.6590726377\n",
      "54.8167555483\n",
      "41.5267086552\n",
      "62.5354328062\n",
      "40.9535529055\n",
      "62.611014749\n",
      "42.6807432735\n",
      "50.9935109804\n",
      "43.3643730917\n",
      "51.0478611002\n",
      "44.2894509518\n",
      "52.2656005688\n",
      "44.7336553938\n",
      "52.268490199\n",
      "44.4685492593\n",
      "52.2645094288\n",
      "44.9516432375\n",
      "52.2772987182\n",
      "45.1756551542\n",
      "52.3360726045\n",
      "45.2381794953\n",
      "52.3560839192\n",
      "45.7216570168\n",
      "54.7043103109\n",
      "45.7111090396\n",
      "48.1764385959\n",
      "45.4922219199\n",
      "48.177394641\n",
      "45.4560262702\n",
      "51.1033072299\n",
      "44.9208486367\n",
      "51.0582649134\n",
      "44.9726872904\n",
      "52.265274531\n",
      "0.0\n",
      "141.596907895\n",
      "0.04\n",
      "88.5482236842\n",
      "1.34922222222\n",
      "50.3087244152\n",
      "2.08610766046\n",
      "41.427185225\n",
      "2.68514285714\n",
      "36.1941670023\n",
      "3.29850600601\n",
      "33.2908082054\n",
      "3.36183838384\n",
      "27.741687167\n",
      "3.33366666667\n",
      "26.5386576389\n",
      "3.65113950456\n",
      "25.3831040399\n",
      "3.86513793396\n",
      "26.6483618984\n",
      "4.31163549318\n",
      "25.1368448852\n",
      "4.34303422619\n",
      "25.6903879584\n",
      "4.80010827487\n",
      "24.0671415334\n",
      "6.53061342985\n",
      "32.647678146\n",
      "6.28470545141\n",
      "24.1029821189\n",
      "6.10893933955\n",
      "26.7400429787\n",
      "6.00627148914\n",
      "26.6554038723\n",
      "6.60468662427\n",
      "25.3385060003\n",
      "6.98992113739\n",
      "25.4711533683\n",
      "7.33316302162\n",
      "25.7186486738\n",
      "7.47691644152\n",
      "25.6461529765\n",
      "8.02285564061\n",
      "25.6456682029\n",
      "8.17854059148\n",
      "26.3146956042\n",
      "8.14856568048\n",
      "25.4582969753\n",
      "7.87102426564\n",
      "25.4146646337\n",
      "8.07885543435\n",
      "26.1131449988\n",
      "8.44307519894\n",
      "26.0670765917\n",
      "9.03091672862\n",
      "28.5743495706\n",
      "9.37176653137\n",
      "23.2781840982\n",
      "8.7466589043\n",
      "24.3470733448\n",
      "9.97593416181\n",
      "27.209095087\n",
      "9.76273496196\n",
      "25.66050756\n",
      "11.3669927376\n",
      "24.1746088264\n",
      "12.0078179538\n",
      "30.5288634211\n",
      "11.9634975651\n",
      "32.8673639709\n",
      "11.9740865379\n",
      "27.8042132019\n",
      "13.9826978095\n",
      "17.6383977483\n",
      "14.0597048794\n",
      "23.6948934075\n",
      "11.0996863899\n",
      "25.476915563\n",
      "10.9946641636\n",
      "26.432519316\n",
      "11.1191787093\n",
      "27.0079535043\n",
      "12.4461490503\n",
      "27.0712077802\n",
      "12.7612489392\n",
      "27.0833492458\n",
      "12.6954144603\n",
      "27.0912827701\n",
      "14.8060820483\n",
      "29.9850403506\n",
      "13.2118755828\n",
      "27.0365966548\n",
      "13.3131352477\n",
      "27.1420256374\n",
      "14.7111755174\n",
      "17.1861294103\n",
      "14.8642029292\n",
      "24.6659851473\n",
      "12.690436934\n",
      "28.1091616034\n",
      "0.0\n",
      "141.596907895\n",
      "0.0\n",
      "91.9232236842\n",
      "0.0\n",
      "53.5176973684\n",
      "0.00760869565217\n",
      "42.6862828947\n",
      "0.0217777777778\n",
      "38.3874342105\n",
      "0.172306306306\n",
      "34.8983800439\n",
      "0.139529220779\n",
      "28.0169893484\n",
      "0.204154995331\n",
      "27.6065642529\n",
      "0.31200968523\n",
      "25.3752304123\n",
      "0.310827922078\n",
      "28.0324048704\n",
      "0.503186591947\n",
      "27.3114509532\n",
      "0.663683035714\n",
      "24.0325481859\n",
      "0.68185892173\n",
      "23.7130864503\n",
      "0.782855032318\n",
      "34.6000535805\n",
      "0.926451582387\n",
      "24.1171760138\n",
      "0.968301315911\n",
      "27.5890132161\n",
      "1.03804993905\n",
      "27.1889687098\n",
      "1.23046680217\n",
      "30.3712946398\n",
      "1.04450268967\n",
      "26.6015303142\n",
      "1.27783821915\n",
      "30.9526204904\n",
      "1.3974255262\n",
      "27.5366486613\n",
      "1.51322203947\n",
      "26.6399052908\n",
      "1.59666784099\n",
      "28.2875282499\n",
      "1.66391145905\n",
      "25.0617624142\n",
      "1.65704461128\n",
      "25.6207223185\n",
      "1.74587376282\n",
      "26.4918198609\n",
      "1.9546872889\n",
      "26.9433527917\n",
      "2.17377372492\n",
      "26.4096014029\n",
      "2.39661223165\n",
      "20.8459200192\n",
      "2.12794818594\n",
      "24.6146637435\n",
      "2.19401350344\n",
      "23.2112921174\n",
      "2.25619552772\n",
      "21.5600961523\n",
      "2.34297389326\n",
      "22.2316279991\n",
      "2.971615117\n",
      "23.5701260933\n",
      "3.10206020665\n",
      "35.4021742841\n",
      "3.400874179\n",
      "34.0343116133\n",
      "2.99127069638\n",
      "11.8261460019\n",
      "3.16395316662\n",
      "13.236036083\n",
      "3.21158563066\n",
      "24.9043080107\n",
      "3.11566451257\n",
      "24.0189577864\n",
      "3.19398739046\n",
      "23.7441227049\n",
      "3.43212968277\n",
      "26.1062985454\n",
      "3.51752972148\n",
      "24.5727877559\n",
      "3.50707788765\n",
      "23.0440060401\n",
      "3.19100593507\n",
      "26.4083948453\n",
      "3.79276858724\n",
      "22.7793061383\n",
      "3.82185740098\n",
      "27.0776639813\n",
      "3.34192330272\n",
      "20.3758027441\n",
      "3.78448157427\n",
      "24.5870431596\n",
      "4.07990155031\n",
      "24.4488510708\n",
      "0.0\n",
      "141.596907895\n",
      "0.0\n",
      "80.9592105263\n",
      "0.0\n",
      "51.3733552632\n",
      "0.0\n",
      "47.8407894737\n",
      "0.0\n",
      "38.4400657895\n",
      "0.0\n",
      "36.5376973684\n",
      "0.000113636363636\n",
      "26.9412006579\n",
      "0.0\n",
      "24.7419078947\n",
      "0.0\n",
      "24.9886842105\n",
      "0.0\n",
      "26.6086184211\n",
      "0.00027397260274\n",
      "26.0466447368\n",
      "0.0055\n",
      "22.3380263158\n",
      "0.00298850574713\n",
      "24.6448026316\n",
      "0.0152105263158\n",
      "38.0929276316\n",
      "0.0142156862745\n",
      "24.8617763158\n",
      "0.019252948886\n",
      "27.7528296187\n",
      "0.00215517241379\n",
      "24.3406578947\n",
      "0.0315214866434\n",
      "33.9845357441\n",
      "0.0136997455471\n",
      "25.4299377193\n",
      "0.00393719806763\n",
      "28.2808315058\n",
      "0.00441379310345\n",
      "27.7172861842\n",
      "0.0267302631579\n",
      "29.1423895468\n",
      "0.0418270440252\n",
      "25.73805678\n",
      "0.0550866837753\n",
      "25.5232556137\n",
      "0.0687681992337\n",
      "29.2224155702\n",
      "0.0507943962115\n",
      "28.6420555156\n",
      "0.0216117021277\n",
      "28.3695858187\n",
      "0.0584523809524\n",
      "29.4591081871\n",
      "0.0495221674877\n",
      "22.4748901316\n",
      "0.0525724867725\n",
      "26.0069224578\n",
      "0.0896198156682\n",
      "23.6554612939\n",
      "0.163300324675\n",
      "23.8001925507\n",
      "0.218112631184\n",
      "22.2899381783\n",
      "0.250771161893\n",
      "28.9725480402\n",
      "0.366452800361\n",
      "33.8310718303\n",
      "0.391148820218\n",
      "39.233137439\n",
      "0.270479405888\n",
      "16.6785840111\n",
      "0.318346686895\n",
      "14.9307284574\n",
      "0.347396114505\n",
      "23.7866732254\n",
      "0.349274317645\n",
      "25.5901841644\n",
      "0.331628373702\n",
      "25.5177543545\n",
      "0.364476270914\n",
      "25.4468999612\n",
      "0.453548010652\n",
      "24.4513205077\n",
      "0.445312225564\n",
      "27.0725220839\n",
      "0.377758586718\n",
      "27.2059275818\n",
      "0.609025811966\n",
      "25.1075823825\n",
      "0.557571619813\n",
      "25.8320439246\n",
      "0.293397961842\n",
      "18.4624461813\n",
      "0.469976546472\n",
      "27.4840550899\n",
      "0.417463911716\n",
      "28.2754034733\n"
     ]
    },
    {
     "name": "stderr",
     "output_type": "stream",
     "text": [
      "/Users/daiwei/Library/Python/2.7/lib/python/site-packages/matplotlib/figure.py:397: UserWarning: matplotlib is currently using a non-GUI backend, so cannot show the figure\n",
      "  \"matplotlib is currently using a non-GUI backend, \"\n"
     ]
    },
    {
     "data": {
      "image/png": "[encoded data removed]",
      "text/plain": [
       "<matplotlib.figure.Figure at 0x1064eb990>"
      ]
     },
     "metadata": {},
     "output_type": "display_data"
    }
   ],
   "source": [
    "learning_curves(X_train, y_train, X_test, y_test)"
   ]
  },
  {
   "cell_type": "markdown",
   "metadata": {},
   "source": [
    "## Question 7\n",
    "*Choose one of the learning curve graphs that are created above. What is the max depth for the chosen model? As the size of the training set increases, what happens to the training error? What happens to the testing error?*"
   ]
  },
  {
   "cell_type": "markdown",
   "metadata": {},
   "source": [
    "**Answer: I choose the model with max depth 6. As the size of the training set increases, training error becomes a little bigger and become converged at the end and testing error reduces a lot at the begining and become converged at the end.**"
   ]
  },
  {
   "cell_type": "markdown",
   "metadata": {},
   "source": [
    "## Question 8\n",
    "*Look at the learning curve graphs for the model with a max depth of 1 and a max depth of 10. When the model is using the full training set, does it suffer from high bias or high variance when the max depth is 1? What about when the max depth is 10?*"
   ]
  },
  {
   "cell_type": "markdown",
   "metadata": {},
   "source": [
    "**Answer: it suffers from high bias when the max depth is 1, while suffers from high variance when the max depth is 10**"
   ]
  },
  {
   "cell_type": "code",
   "execution_count": 30,
   "metadata": {
    "collapsed": false
   },
   "outputs": [
    {
     "name": "stdout",
     "output_type": "stream",
     "text": [
      "Creating a model complexity graph. . . \n",
      "44.9726872904\n",
      "52.265274531\n",
      "23.697567073\n",
      "31.4246885545\n",
      "12.690436934\n",
      "28.1091616034\n",
      "8.53315122323\n",
      "25.2075663706\n",
      "6.08283428208\n",
      "24.0791033011\n",
      "4.07990155031\n",
      "23.5074023597\n",
      "2.62738745508\n",
      "27.5231351809\n",
      "1.38433800626\n",
      "25.8674768149\n",
      "0.799187982725\n",
      "30.4734712805\n",
      "0.417463911716\n",
      "25.4908514996\n",
      "0.16510791633\n",
      "27.9346215511\n",
      "0.0551713319637\n",
      "29.6996547752\n",
      "0.00783400591875\n",
      "27.6332891261\n"
     ]
    },
    {
     "data": {
      "image/png": "[encoded data removed]",
      "text/plain": [
       "<matplotlib.figure.Figure at 0x1064e9590>"
      ]
     },
     "metadata": {},
     "output_type": "display_data"
    }
   ],
   "source": [
    "model_complexity(X_train, y_train, X_test, y_test)"
   ]
  },
  {
   "cell_type": "markdown",
   "metadata": {},
   "source": [
    "## Question 9\n",
    "*From the model complexity graph above, describe the training and testing errors as the max depth increases. Based on your interpretation of the graph, which max depth results in a model that best generalizes the dataset? Why?*"
   ]
  },
  {
   "cell_type": "markdown",
   "metadata": {},
   "source": [
    "**Answer: As the max depth increases, training error reduces fast at the beginning and converged to a small value near zero at the end while testing error reduces fast at the beginning and converged to a certatin error at about 6 in x-axis. I think the max depth 6 may best generalizes the datasets because at this point, the testing curve gets its lowest and the training error is lower than 10 and its really acceptable.**"
   ]
  },
  {
   "cell_type": "markdown",
   "metadata": {},
   "source": [
    "# Model Prediction\n",
    "In this final section of the project, you will make a prediction on the client's feature set using an optimized model from `fit_model`. When applying grid search along with cross-validation to optimize your model, it would typically be performed and validated on a training set and subsequently evaluated on a **dedicated test set**. In this project, the optimization below is performed on the *entire dataset* (as opposed to the training set you made above) due to the many outliers in the data. Using the entire dataset for training provides for a less volatile prediction at the expense of not testing your model's performance. \n",
    "\n",
    "*To answer the following questions, it is recommended that you run the code blocks several times and use the median or mean value of the results.*"
   ]
  },
  {
   "cell_type": "markdown",
   "metadata": {},
   "source": [
    "## Question 10\n",
    "*Using grid search on the entire dataset, what is the optimal `max_depth` parameter for your model? How does this result compare to your intial intuition?*  \n",
    "**Hint: ** Run the code block below to see the max depth produced by your optimized model."
   ]
  },
  {
   "cell_type": "code",
   "execution_count": 80,
   "metadata": {
    "collapsed": false
   },
   "outputs": [
    {
     "name": "stdout",
     "output_type": "stream",
     "text": [
      "Final model has an optimal max_depth parameter of 7\n"
     ]
    }
   ],
   "source": [
    "print \"Final model has an optimal max_depth parameter of\", reg.get_params()['max_depth']"
   ]
  },
  {
   "cell_type": "markdown",
   "metadata": {},
   "source": [
    "**Answer: The optimal max_depth parameter for my model is 4, it's a little smaller than my initial intuition.**"
   ]
  },
  {
   "cell_type": "markdown",
   "metadata": {},
   "source": [
    "## Question 11\n",
    "*With your parameter-tuned model, what is the best selling price for your client's home? How does this selling price compare to the basic statistics you calculated on the dataset?*  \n",
    "\n",
    "**Hint: ** Run the code block below to have your parameter-tuned model make a prediction on the client's home."
   ]
  },
  {
   "cell_type": "code",
   "execution_count": 88,
   "metadata": {
    "collapsed": false
   },
   "outputs": [
    {
     "name": "stdout",
     "output_type": "stream",
     "text": [
      "Predicted value of client's home: 21.630\n"
     ]
    }
   ],
   "source": [
    "sale_price = reg.predict(CLIENT_FEATURES)\n",
    "print \"Predicted value of client's home: {0:.3f}\".format(sale_price[0])"
   ]
  },
  {
   "cell_type": "markdown",
   "metadata": {},
   "source": [
    "**Answer: The best selling price for my client's home is 21.630. It's near the mean housing price and the median housing price.**"
   ]
  },
  {
   "cell_type": "markdown",
   "metadata": {},
   "source": [
    "## Question 12 (Final Question):\n",
    "*In a few sentences, discuss whether you would use this model or not to predict the selling price of future clients' homes in the Greater Boston area.*"
   ]
  },
  {
   "cell_type": "markdown",
   "metadata": {},
   "source": [
    "**Answer: I would use this model to predict the selling price of future clients. From learning curve its training error and testing error are acceptable. Additionally, I got different results between 4 and 8 when I ran the function fit_model. I tried 10 times and got 4 more often than others. And the predict answer with the parameter 4 got the answer near the median housing price so I think it's got a higher probability to be the best prediciton.**"
   ]
  }
 ],
 "metadata": {
  "kernelspec": {
   "display_name": "Python 2",
   "language": "python",
   "name": "python2"
  },
  "language_info": {
   "codemirror_mode": {
    "name": "ipython",
    "version": 2.0
   },
   "file_extension": ".py",
   "mimetype": "text/x-python",
   "name": "python",
   "nbconvert_exporter": "python",
   "pygments_lexer": "ipython2",
   "version": "2.7.11"
  }
 },
 "nbformat": 4,
 "nbformat_minor": 0
}